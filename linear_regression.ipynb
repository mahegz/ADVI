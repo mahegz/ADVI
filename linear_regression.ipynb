{
 "cells": [
  {
   "cell_type": "code",
   "execution_count": 1,
   "metadata": {},
   "outputs": [],
   "source": [
    "%load_ext autoreload\n",
    "%autoreload 2"
   ]
  },
  {
   "cell_type": "code",
   "execution_count": 2,
   "metadata": {},
   "outputs": [
    {
     "name": "stderr",
     "output_type": "stream",
     "text": [
      "WARNING (pytensor.tensor.blas): Using NumPy C-API based implementation for BLAS functions.\n"
     ]
    }
   ],
   "source": [
    "import jax.numpy as jnp\n",
    "import numpy as np\n",
    "from jax import grad, vmap\n",
    "import jax\n",
    "import jax.random as jrandom\n",
    "import matplotlib.pyplot as plt\n",
    "from models import *\n",
    "from advi import *\n",
    "import pymc\n",
    "from pymc import HalfCauchy, Model, Normal, sample, Gamma\n"
   ]
  },
  {
   "cell_type": "code",
   "execution_count": 3,
   "metadata": {},
   "outputs": [],
   "source": [
    "def get_samples_pymc(X_data,y, gamma_prior=1):\n",
    "    with Model() as model:  # model specifications in PyMC are wrapped in a with-statement\n",
    "        # Define priors\n",
    "        X_data_pm = pymc.MutableData(\"xdata\",np.array(X_data).T)\n",
    "        y_pm = pymc.MutableData(\"ydata\",y)\n",
    "\n",
    "        sigma = Gamma(\"sigma\", alpha=gamma_prior,beta=gamma_prior)\n",
    "        slope = Normal(\"slope\", 0, sigma=1, shape=d)\n",
    "        # Define likelihood\n",
    "        likelihood = Normal(\"y\", mu=slope@X_data_pm, sigma=sigma, observed=y_pm)\n",
    "\n",
    "        # Inference!\n",
    "        # draw 3000 posterior samples using NUTS sampling\n",
    "        idata = sample(3000, tune=1000)\n",
    "        samples =  np.array(idata.posterior['slope'])\n",
    "        samples = np.vstack(samples)\n",
    "        mean = np.mean(samples, axis=0)\n",
    "        variance = np.var(samples, axis=0)\n",
    "        return mean, variance\n",
    "    \n",
    "def get_val_advi(X_data,y, gamma_prior=1, random_state=2):\n",
    "    linear_model = LinearModel(X_data, y, gamma_prior, gamma_prior)\n",
    "    linear_advi = mean_field_advi(linear_model)\n",
    "    loss_adaptive = linear_advi.run_advi(\n",
    "        jrandom.key(random_state), 10, 10001, 1e-3, print_every=2000, adaptive=True, alpha=0.5, rmsprop=True\n",
    "    )\n",
    "    return linear_advi.params[\"mu\"], linear_advi.params[\"sigma\"], linear_advi"
   ]
  },
  {
   "cell_type": "code",
   "execution_count": 4,
   "metadata": {},
   "outputs": [
    {
     "name": "stderr",
     "output_type": "stream",
     "text": [
      "An NVIDIA GPU may be present on this machine, but a CUDA-enabled jaxlib is not installed. Falling back to cpu.\n"
     ]
    }
   ],
   "source": [
    "N = 100\n",
    "d = 30\n",
    "key = jrandom.key(42)\n",
    "k1, k2, k3 = jrandom.split(key, 3)\n",
    "X_data = jrandom.normal(k1, shape=(N, d))\n",
    "w_star = jrandom.normal(k2, shape=(d,)) * 2\n",
    "y = X_data @ w_star\n",
    "linear_model = LinearModel(X_data, y, 1, 1)\n",
    "linear_advi = mean_field_advi(linear_model)\n",
    "key = jrandom.key(52)\n",
    "X_data_np = np.array(X_data)"
   ]
  },
  {
   "cell_type": "code",
   "execution_count": 12,
   "metadata": {},
   "outputs": [
    {
     "name": "stderr",
     "output_type": "stream",
     "text": [
      "Auto-assigning NUTS sampler...\n",
      "Initializing NUTS using jitter+adapt_diag...\n",
      "Multiprocess sampling (4 chains in 4 jobs)\n",
      "NUTS: [sigma, slope]\n",
      "/home/hegz/anaconda3/envs/311/lib/python3.11/multiprocessing/popen_fork.py:66: RuntimeWarning: os.fork() was called. os.fork() is incompatible with multithreaded code, and JAX is multithreaded, so this will likely lead to a deadlock.\n",
      "  self.pid = os.fork()\n"
     ]
    },
    {
     "data": {
      "text/html": [
       "\n",
       "<style>\n",
       "    /* Turns off some styling */\n",
       "    progress {\n",
       "        /* gets rid of default border in Firefox and Opera. */\n",
       "        border: none;\n",
       "        /* Needs to be in here for Safari polyfill so background images work as expected. */\n",
       "        background-size: auto;\n",
       "    }\n",
       "    progress:not([value]), progress:not([value])::-webkit-progress-bar {\n",
       "        background: repeating-linear-gradient(45deg, #7e7e7e, #7e7e7e 10px, #5c5c5c 10px, #5c5c5c 20px);\n",
       "    }\n",
       "    .progress-bar-interrupted, .progress-bar-interrupted::-webkit-progress-bar {\n",
       "        background: #F44336;\n",
       "    }\n",
       "</style>\n"
      ],
      "text/plain": [
       "<IPython.core.display.HTML object>"
      ]
     },
     "metadata": {},
     "output_type": "display_data"
    },
    {
     "data": {
      "text/html": [
       "\n",
       "    <div>\n",
       "      <progress value='16000' class='' max='16000' style='width:300px; height:20px; vertical-align: middle;'></progress>\n",
       "      100.00% [16000/16000 00:08&lt;00:00 Sampling 4 chains, 0 divergences]\n",
       "    </div>\n",
       "    "
      ],
      "text/plain": [
       "<IPython.core.display.HTML object>"
      ]
     },
     "metadata": {},
     "output_type": "display_data"
    },
    {
     "name": "stderr",
     "output_type": "stream",
     "text": [
      "/home/hegz/anaconda3/envs/311/lib/python3.11/multiprocessing/popen_fork.py:66: RuntimeWarning: os.fork() was called. os.fork() is incompatible with multithreaded code, and JAX is multithreaded, so this will likely lead to a deadlock.\n",
      "  self.pid = os.fork()\n",
      "Sampling 4 chains for 1_000 tune and 3_000 draw iterations (4_000 + 12_000 draws total) took 9 seconds.\n"
     ]
    },
    {
     "name": "stdout",
     "output_type": "stream",
     "text": [
      "-38095.04\n",
      "-381.16327\n",
      "-304.04343\n",
      "-245.00426\n",
      "-236.46585\n",
      "-236.73222\n"
     ]
    }
   ],
   "source": [
    "mean, variance = get_samples_pymc(X_data, y)\n",
    "mean_advi, variance_advi, advi = get_val_advi(X_data, y)\n",
    "samples_advi = advi.sample_advi(jrandom.key(2),num=12_000)[:-1].T\n",
    "mean_advi = jnp.mean(samples_advi, axis=0)\n",
    "variance_advi = jnp.var(samples_advi, axis=0)\n"
   ]
  },
  {
   "cell_type": "code",
   "execution_count": 18,
   "metadata": {},
   "outputs": [
    {
     "data": {
      "text/plain": [
       "(30,)"
      ]
     },
     "execution_count": 18,
     "metadata": {},
     "output_type": "execute_result"
    }
   ],
   "source": [
    "variance_advi.shape"
   ]
  },
  {
   "cell_type": "code",
   "execution_count": 13,
   "metadata": {},
   "outputs": [],
   "source": [
    "minm = min([np.min(variance), np.min(variance_advi**2)])\n",
    "maxm = max([np.max(variance), np.max(variance_advi**2)])"
   ]
  },
  {
   "cell_type": "code",
   "execution_count": 22,
   "metadata": {},
   "outputs": [],
   "source": [
    "plt.rcParams.update({'figure.autolayout': True})"
   ]
  },
  {
   "cell_type": "code",
   "execution_count": 32,
   "metadata": {},
   "outputs": [
    {
     "data": {
      "image/png": "[encoded data removed]",
      "text/plain": [
       "<Figure size 400x300 with 1 Axes>"
      ]
     },
     "metadata": {},
     "output_type": "display_data"
    }
   ],
   "source": [
    "plt.figure(figsize=(4, 3), constrained_layout=True)#,w_pad=0, h_pad=0 )\n",
    "\n",
    "# plt.rcParams['savefig.facecolor'] = \"0.8\"\n",
    "\n",
    "# plt.set_constrained_layout_pads(w_pad=0, h_pad=0)\n",
    "plt.scatter(variance,variance_advi)\n",
    "plt.xlabel(\"Variance NUTS\")\n",
    "plt.ylabel(\"Variance ADVI\")\n",
    "plt.savefig(\"regression_var.pdf\")\n",
    "# plt.tight_layout()\n",
    "# plt.plot(np.linspace(minm, maxm, 100),np.linspace(minm, maxm, 100))\n",
    "plt.show()"
   ]
  },
  {
   "cell_type": "code",
   "execution_count": 31,
   "metadata": {},
   "outputs": [
    {
     "data": {
      "text/plain": [
       "<Figure size 400x300 with 0 Axes>"
      ]
     },
     "metadata": {},
     "output_type": "display_data"
    },
    {
     "data": {
      "image/png": "[encoded data removed]",
      "text/plain": [
       "<Figure size 400x300 with 1 Axes>"
      ]
     },
     "metadata": {},
     "output_type": "display_data"
    }
   ],
   "source": [
    "plt.figure(figsize=(4, 3), constrained_layout=True)#,w_pad=0, h_pad=0 )\n",
    "\n",
    "plt.figure(figsize=(4, 3))\n",
    "plt.scatter(mean, mean_advi\n",
    "            )\n",
    "plt.xlabel(\"Mean NUTS\")\n",
    "plt.ylabel(\"Mean ADVI\")\n",
    "plt.plot(np.linspace(-6, 6, 100), np.linspace(-6, 6, 100))\n",
    "# plt.tight_layout()\n",
    "\n",
    "plt.savefig(\"regression_mean.pdf\")\n",
    "\n",
    "plt.show()"
   ]
  },
  {
   "cell_type": "code",
   "execution_count": null,
   "metadata": {},
   "outputs": [],
   "source": [
    "N = 100\n",
    "d = 30\n",
    "key = jrandom.key(42)\n",
    "k1, k2, k3 = jrandom.split(key, 3)\n",
    "X_data = jrandom.normal(k1, shape=(N, d))\n",
    "w_star = jrandom.normal(k2, shape=(d,)) * 2\n",
    "y = X_data @ w_star\n",
    "linear_model = LinearModel(X_data, y, 1, 1)\n",
    "linear_advi = mean_field_advi(linear_model)\n",
    "key = jrandom.key(52)\n",
    "linear_advi = mean_field_advi(linear_model)\n",
    "loss_1_adaptive = linear_advi.run_advi(\n",
    "    key, 1, 1001, 1e-3, print_every=500, adaptive=True, alpha=0.5\n",
    ")"
   ]
  },
  {
   "cell_type": "code",
   "execution_count": null,
   "metadata": {},
   "outputs": [],
   "source": [
    "\n",
    "linear_advi = mean_field_advi(linear_model)\n",
    "\n",
    "loss_1_fixed = linear_advi.run_advi(\n",
    "    key, 1, 1001, 1e-4, print_every=500, adaptive=False, alpha=0.5\n",
    ")\n",
    "\n",
    "linear_advi = mean_field_advi(linear_model)\n",
    "\n",
    "loss_10_adaptive = linear_advi.run_advi(\n",
    "    key, 10, 1001, 1e-3, print_every=500, adaptive=True, alpha=0.5\n",
    ")\n",
    "linear_advi = mean_field_advi(linear_model)\n",
    "\n",
    "loss_10_fixed = linear_advi.run_advi(\n",
    "    key, 10, 1001, 1e-4, print_every=500, adaptive=False, alpha=0.5\n",
    ")"
   ]
  }
 ],
 "metadata": {
  "kernelspec": {
   "display_name": "DLP",
   "language": "python",
   "name": "python3"
  },
  "language_info": {
   "codemirror_mode": {
    "name": "ipython",
    "version": 3
   },
   "file_extension": ".py",
   "mimetype": "text/x-python",
   "name": "python",
   "nbconvert_exporter": "python",
   "pygments_lexer": "ipython3",
   "version": "3.11.0"
  }
 },
 "nbformat": 4,
 "nbformat_minor": 2
}
