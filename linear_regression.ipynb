{
 "cells": [
  {
   "cell_type": "code",
   "execution_count": null,
   "metadata": {},
   "outputs": [],
   "source": [
    "%load_ext autoreload\n",
    "%autoreload 2"
   ]
  },
  {
   "cell_type": "code",
   "execution_count": null,
   "metadata": {},
   "outputs": [],
   "source": [
    "import jax.numpy as jnp\n",
    "import numpy as np\n",
    "from jax import grad, vmap\n",
    "import jax\n",
    "import jax.random as jrandom\n",
    "import matplotlib.pyplot as plt\n",
    "from models import *\n",
    "from advi import *\n",
    "import pymc\n",
    "from pymc import HalfCauchy, Model, Normal, sample, Gamma\n"
   ]
  },
  {
   "cell_type": "code",
   "execution_count": null,
   "metadata": {},
   "outputs": [],
   "source": [
    "def get_samples_pymc(X_data,y, gamma_prior=1):\n",
    "    with Model() as model:  # model specifications in PyMC are wrapped in a with-statement\n",
    "        # Define priors\n",
    "        X_data_pm = pymc.MutableData(\"xdata\",np.array(X_data).T)\n",
    "        y_pm = pymc.MutableData(\"ydata\",y)\n",
    "\n",
    "        sigma = Gamma(\"sigma\", alpha=gamma_prior,beta=gamma_prior)\n",
    "        slope = Normal(\"slope\", 0, sigma=1, shape=d)\n",
    "        # Define likelihood\n",
    "        likelihood = Normal(\"y\", mu=slope@X_data_pm, sigma=sigma, observed=y_pm)\n",
    "\n",
    "        # Inference!\n",
    "        # draw 3000 posterior samples using NUTS sampling\n",
    "        idata = sample(3000, tune=1000)\n",
    "        samples =  np.array(idata.posterior['slope'])\n",
    "        samples = np.vstack(samples)\n",
    "        mean = np.mean(samples, axis=0)\n",
    "        variance = np.var(samples, axis=0)\n",
    "        return mean, variance\n",
    "    \n",
    "def get_val_advi(X_data,y, gamma_prior=1, random_state=2):\n",
    "    linear_model = LinearModel(X_data, y, gamma_prior, gamma_prior)\n",
    "    linear_advi = mean_field_advi(linear_model)\n",
    "    loss_adaptive = linear_advi.run_advi(\n",
    "        jrandom.key(random_state), 10, 10001, 1e-3, print_every=2000, adaptive=True, alpha=0.5, rmsprop=True\n",
    "    )\n",
    "    return linear_advi.params[\"mu\"], linear_advi.params[\"sigma\"], linear_advi"
   ]
  },
  {
   "cell_type": "code",
   "execution_count": null,
   "metadata": {},
   "outputs": [],
   "source": [
    "N = 100\n",
    "d = 30\n",
    "key = jrandom.key(42)\n",
    "k1, k2, k3 = jrandom.split(key, 3)\n",
    "X_data = jrandom.normal(k1, shape=(N, d))\n",
    "w_star = jrandom.normal(k2, shape=(d,)) * 2\n",
    "y = X_data @ w_star\n",
    "linear_model = LinearModel(X_data, y, 1, 1)\n",
    "linear_advi = mean_field_advi(linear_model)\n",
    "key = jrandom.key(52)\n",
    "X_data_np = np.array(X_data)"
   ]
  },
  {
   "cell_type": "code",
   "execution_count": null,
   "metadata": {},
   "outputs": [],
   "source": [
    "mean, variance = get_samples_pymc(X_data, y)\n",
    "mean_advi, variance_advi, advi = get_val_advi(X_data, y)\n",
    "samples_advi = advi.sample_advi(jrandom.key(2),num=12_000)[:-1].T\n",
    "mean_advi = jnp.mean(samples_advi, axis=0)\n",
    "variance_advi = jnp.var(samples_advi, axis=0)\n"
   ]
  },
  {
   "cell_type": "code",
   "execution_count": null,
   "metadata": {},
   "outputs": [],
   "source": [
    "variance_advi.shape"
   ]
  },
  {
   "cell_type": "code",
   "execution_count": null,
   "metadata": {},
   "outputs": [],
   "source": [
    "minm = min([np.min(variance), np.min(variance_advi**2)])\n",
    "maxm = max([np.max(variance), np.max(variance_advi**2)])"
   ]
  },
  {
   "cell_type": "code",
   "execution_count": null,
   "metadata": {},
   "outputs": [],
   "source": [
    "plt.rcParams.update({'figure.autolayout': True})"
   ]
  },
  {
   "cell_type": "code",
   "execution_count": null,
   "metadata": {},
   "outputs": [],
   "source": [
    "plt.figure(figsize=(4, 3), constrained_layout=True)#,w_pad=0, h_pad=0 )\n",
    "\n",
    "# plt.rcParams['savefig.facecolor'] = \"0.8\"\n",
    "\n",
    "# plt.set_constrained_layout_pads(w_pad=0, h_pad=0)\n",
    "plt.scatter(variance,variance_advi)\n",
    "plt.xlabel(\"Variance NUTS\")\n",
    "plt.ylabel(\"Variance ADVI\")\n",
    "plt.savefig(\"regression_var.pdf\")\n",
    "# plt.tight_layout()\n",
    "# plt.plot(np.linspace(minm, maxm, 100),np.linspace(minm, maxm, 100))\n",
    "plt.show()"
   ]
  },
  {
   "cell_type": "code",
   "execution_count": null,
   "metadata": {},
   "outputs": [],
   "source": [
    "plt.figure(figsize=(4, 3), constrained_layout=True)#,w_pad=0, h_pad=0 )\n",
    "\n",
    "plt.figure(figsize=(4, 3))\n",
    "plt.scatter(mean, mean_advi\n",
    "            )\n",
    "plt.xlabel(\"Mean NUTS\")\n",
    "plt.ylabel(\"Mean ADVI\")\n",
    "plt.plot(np.linspace(-6, 6, 100), np.linspace(-6, 6, 100))\n",
    "# plt.tight_layout()\n",
    "\n",
    "plt.savefig(\"regression_mean.pdf\")\n",
    "\n",
    "plt.show()"
   ]
  },
  {
   "cell_type": "code",
   "execution_count": null,
   "metadata": {},
   "outputs": [],
   "source": [
    "N = 100\n",
    "d = 30\n",
    "key = jrandom.key(42)\n",
    "k1, k2, k3 = jrandom.split(key, 3)\n",
    "X_data = jrandom.normal(k1, shape=(N, d))\n",
    "w_star = jrandom.normal(k2, shape=(d,)) * 2\n",
    "y = X_data @ w_star\n",
    "linear_model = LinearModel(X_data, y, 1, 1)\n",
    "linear_advi = mean_field_advi(linear_model)\n",
    "key = jrandom.key(52)\n",
    "linear_advi = mean_field_advi(linear_model)\n",
    "loss_1_adaptive = linear_advi.run_advi(\n",
    "    key, 1, 1001, 1e-3, print_every=500, adaptive=True, alpha=0.5\n",
    ")"
   ]
  },
  {
   "cell_type": "code",
   "execution_count": null,
   "metadata": {},
   "outputs": [],
   "source": [
    "\n",
    "linear_advi = mean_field_advi(linear_model)\n",
    "\n",
    "loss_1_fixed = linear_advi.run_advi(\n",
    "    key, 1, 1001, 1e-4, print_every=500, adaptive=False, alpha=0.5\n",
    ")\n",
    "\n",
    "linear_advi = mean_field_advi(linear_model)\n",
    "\n",
    "loss_10_adaptive = linear_advi.run_advi(\n",
    "    key, 10, 1001, 1e-3, print_every=500, adaptive=True, alpha=0.5\n",
    ")\n",
    "linear_advi = mean_field_advi(linear_model)\n",
    "\n",
    "loss_10_fixed = linear_advi.run_advi(\n",
    "    key, 10, 1001, 1e-4, print_every=500, adaptive=False, alpha=0.5\n",
    ")"
   ]
  }
 ],
 "metadata": {
  "kernelspec": {
   "display_name": "DLP",
   "language": "python",
   "name": "python3"
  },
  "language_info": {
   "codemirror_mode": {
    "name": "ipython",
    "version": 3
   },
   "file_extension": ".py",
   "mimetype": "text/x-python",
   "name": "python",
   "nbconvert_exporter": "python",
   "pygments_lexer": "ipython3",
   "version": "3.11.0"
  }
 },
 "nbformat": 4,
 "nbformat_minor": 2
}
