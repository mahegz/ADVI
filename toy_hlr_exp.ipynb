{
 "cells": [
  {
   "cell_type": "code",
   "execution_count": null,
   "metadata": {},
   "outputs": [],
   "source": [
    "%load_ext autoreload\n",
    "%autoreload 2"
   ]
  },
  {
   "cell_type": "code",
   "execution_count": null,
   "metadata": {},
   "outputs": [],
   "source": [
    "import jax.numpy as jnp\n",
    "from jax import grad, vmap\n",
    "import jax\n",
    "import jax.random as jrandom\n",
    "import matplotlib.pyplot as plt\n",
    "from utils import prepare_data\n",
    "from models import *\n",
    "from advi import *\n",
    "import pymc"
   ]
  },
  {
   "cell_type": "markdown",
   "metadata": {},
   "source": [
    "## Toy Regression"
   ]
  },
  {
   "cell_type": "code",
   "execution_count": null,
   "metadata": {},
   "outputs": [],
   "source": [
    "N = 100\n",
    "d = 30\n",
    "key = jrandom.key(42)\n",
    "k1, k2, k3 = jrandom.split(key, 3)\n",
    "X_data = jrandom.normal(k1, shape=(N, d))\n",
    "w_star = jrandom.normal(k2, shape=(d,)) * 2\n",
    "y = X_data @ w_star\n",
    "linear_model = LinearModel(X_data, y, 1, 1)\n",
    "linear_advi = mean_field_advi(linear_model)\n",
    "key = jrandom.key(52)\n"
   ]
  },
  {
   "cell_type": "code",
   "execution_count": null,
   "metadata": {},
   "outputs": [],
   "source": [
    "linear_advi = mean_field_advi(linear_model)\n",
    "loss_1_adaptive = linear_advi.run_advi(\n",
    "    key, 1, 1001, 5e-4, print_every=500, adaptive=True, alpha=0.5, rmsprop=False\n",
    ")\n",
    "linear_advi = mean_field_advi(linear_model)\n",
    "\n",
    "loss_1_fixed = linear_advi.run_advi(\n",
    "    key, 1, 1001, 1e-4, print_every=500, adaptive=False, alpha=0.5\n",
    ")\n",
    "\n",
    "linear_advi = mean_field_advi(linear_model)\n",
    "\n",
    "loss_10_adaptive = linear_advi.run_advi(\n",
    "    key, 10, 1001, 5e-4, print_every=500, adaptive=True, alpha=0.5, rmsprop=False\n",
    ")\n",
    "linear_advi = mean_field_advi(linear_model)\n",
    "\n",
    "loss_10_fixed = linear_advi.run_advi(\n",
    "    key, 10, 1001, 1e-4, print_every=500, adaptive=False, alpha=0.5\n",
    ")"
   ]
  },
  {
   "cell_type": "code",
   "execution_count": null,
   "metadata": {},
   "outputs": [],
   "source": [
    "plt.rcParams.update({'figure.autolayout': True})\n",
    "plt.figure(figsize=(4, 3), constrained_layout=True)#,w_pad=0, h_pad=0 )\n",
    "plt.plot(loss_1_fixed[:100], label='Fixed: 1 Sample', color='blue', marker=\"v\")\n",
    "plt.plot(loss_1_adaptive[:100], label='Adaptive: 1 Sample', marker='o', color='grey')\n",
    "plt.plot(loss_10_adaptive[:100], label='Adaptive:10 Sample', marker='+', color='black')\n",
    "plt.plot(loss_10_fixed[:30], label='Fixed:10 Sample',color='red')\n",
    "plt.legend( loc='lower right')\n",
    "plt.xlabel(\"Iteration\")\n",
    "plt.ylabel(\"ELBO\")\n",
    "plt.savefig(\"toy_adapt_fixed2.pdf\")\n",
    "\n",
    "# plt.savefig(\"toy_samples.pdf\")"
   ]
  },
  {
   "cell_type": "markdown",
   "metadata": {},
   "source": [
    "## Effect of Samples:"
   ]
  },
  {
   "cell_type": "code",
   "execution_count": null,
   "metadata": {},
   "outputs": [],
   "source": [
    "linear_advi = mean_field_advi(linear_model)\n",
    "loss_1 = linear_advi.run_advi(\n",
    "    key, 1, 1001, 1e-5, print_every=500, adaptive=False, alpha=0.5, rmsprop=False\n",
    ")\n",
    "linear_advi = mean_field_advi(linear_model)\n",
    "\n",
    "loss_3 = linear_advi.run_advi(\n",
    "    key, 3, 1001, 1e-5, print_every=500, adaptive=False, alpha=0.5\n",
    ")\n",
    "\n",
    "\n",
    "linear_advi = mean_field_advi(linear_model)\n",
    "loss_7 = linear_advi.run_advi(\n",
    "    key, 7, 1001, 1e-5, print_every=500, adaptive=False, alpha=0.5, rmsprop=False\n",
    ")\n",
    "linear_advi = mean_field_advi(linear_model)\n",
    "\n",
    "loss_10 = linear_advi.run_advi(\n",
    "    key, 10, 1001,1e-5, print_every=500, adaptive=False, alpha=0.5\n",
    ")\n"
   ]
  },
  {
   "cell_type": "code",
   "execution_count": null,
   "metadata": {},
   "outputs": [],
   "source": [
    "plt.rcParams.update({'figure.autolayout': True})\n",
    "plt.figure(figsize=(4, 3), constrained_layout=True)#,w_pad=0, h_pad=0 )\n",
    "plt.plot((jnp.array(loss_1[:100])), label='1 Sample')\n",
    "plt.plot((jnp.array(loss_3)[:100]), label='3 Sample')\n",
    "plt.plot((jnp.array(loss_7)[:100]), label='7 Sample')\n",
    "plt.plot((jnp.array(loss_10)[:100]), label='10 Sample')\n",
    "plt.xlabel(\"Iterations\")\n",
    "plt.ylabel(\"ELBO\")\n",
    "plt.legend()\n",
    "plt.savefig(\"toy_elbo_samples.pdf\")\n"
   ]
  },
  {
   "cell_type": "markdown",
   "metadata": {},
   "source": [
    "## HLR Experiments"
   ]
  },
  {
   "cell_type": "code",
   "execution_count": null,
   "metadata": {},
   "outputs": [],
   "source": [
    "k = jrandom.key(42)\n",
    "beta_prior = 100\n",
    "alpha_prior = 1\n",
    "data = prepare_data()\n",
    "hlr_model = HLR_Model(data,alpha_prior=1)\n",
    "hlr_advi = mean_field_advi(hlr_model)\n",
    "# loss = hlr_advi.run_advi(\n",
    "#     k, 3, 10001, 1e-5, print_every=100, adaptive=False, alpha=0.5\n",
    "# )\n",
    "\n",
    "hlr_advi = mean_field_advi(hlr_model)\n",
    "\n",
    "loss_1_fixed = hlr_advi.run_advi(\n",
    "    key, 1, 10001, 1e-5, print_every=5000, adaptive=False, alpha=0.5\n",
    ")\n",
    "hlr_advi = mean_field_advi(hlr_model)\n",
    "\n",
    "loss_1_adaptive = hlr_advi.run_advi(\n",
    "    key, 1, 10001, 1e-4, print_every=5000, adaptive=True, alpha=0.5\n",
    ")\n",
    "\n",
    "hlr_advi = mean_field_advi(hlr_model)\n",
    "loss_10_fixed = hlr_advi.run_advi(\n",
    "    key, 10, 10001, 1e-5, print_every=5000, adaptive=False, alpha=0.5\n",
    ")\n",
    "hlr_advi = mean_field_advi(hlr_model)\n",
    "loss_10_adaptive = hlr_advi.run_advi(\n",
    "    key, 10, 10001, 1e-4, print_every=5000, adaptive=True, alpha=0.5\n",
    ")\n"
   ]
  },
  {
   "cell_type": "code",
   "execution_count": null,
   "metadata": {},
   "outputs": [],
   "source": [
    "plt.rcParams.update({'figure.autolayout': True})\n",
    "plt.figure(figsize=(4, 3), constrained_layout=True)\n",
    "plt.plot(loss_1_fixed[:3500], label='Fixed: 1 Sample', color='blue', marker=\"v\")\n",
    "plt.plot(loss_1_adaptive[:3500], label='Adaptive: 1 Sample', marker='o', color='grey')\n",
    "plt.plot(loss_10_adaptive[:3500], label='Adaptive:10 Sample', marker='+', color='black')\n",
    "plt.plot(loss_10_fixed[:3500], label='Fixed:10 Sample',color='red')\n",
    "plt.xlabel(\"Iterations\")\n",
    "plt.ylabel(\"ELBO\")\n",
    "plt.legend()\n",
    "plt.savefig(\"new_hlr_adapt.pdf\")\n",
    "# plt.savefig(\"toy_adapt_fixed.pdf\")"
   ]
  },
  {
   "cell_type": "code",
   "execution_count": null,
   "metadata": {},
   "outputs": [],
   "source": [
    "hlr_advi = mean_field_advi(hlr_model)\n",
    "\n",
    "loss_1 = hlr_advi.run_advi(\n",
    "    key, 1, 10001, 1e-5, print_every=5000, adaptive=False, alpha=0.5\n",
    ")\n",
    "hlr_advi = mean_field_advi(hlr_model)\n",
    "\n",
    "loss_3 = hlr_advi.run_advi(\n",
    "    key, 3, 10001, 1e-5, print_every=5000, adaptive=False, alpha=0.5\n",
    ")\n",
    "\n",
    "hlr_advi = mean_field_advi(hlr_model)\n",
    "loss_10 = hlr_advi.run_advi(\n",
    "    key, 10, 10001, 1e-5, print_every=5000, adaptive=False, alpha=0.5\n",
    ")\n",
    "hlr_advi = mean_field_advi(hlr_model)\n",
    "loss_100 = hlr_advi.run_advi(\n",
    "    key, 100, 10001, 1e-5, print_every=5000, adaptive=False, alpha=0.5\n",
    ")"
   ]
  },
  {
   "cell_type": "code",
   "execution_count": null,
   "metadata": {},
   "outputs": [],
   "source": [
    "plt.rcParams.update({'figure.autolayout': True})\n",
    "plt.figure(figsize=(4, 3), constrained_layout=True)\n",
    "plt.plot((jnp.array(loss_1)), label='1 Sample')\n",
    "plt.plot((jnp.array(loss_3)), label='3 Sample')\n",
    "plt.plot((jnp.array(loss_10)), label='10 Sample')\n",
    "plt.plot((jnp.array(loss_100)), label='100 Sample')\n",
    "plt.legend()\n",
    "plt.ylabel(\"ELBO\")\n",
    "plt.xlabel(\"Iterations\")\n",
    "plt.savefig(\"hlr_sample.pdf\")\n",
    "# plt.yscale('log')  # Set y-axis to logarithmic scale"
   ]
  },
  {
   "cell_type": "code",
   "execution_count": null,
   "metadata": {},
   "outputs": [],
   "source": [
    "#last hlr is good. \n",
    "mu = hlr_advi.params['mu']\n",
    "sigma = hlr_advi.params['sigma']\n",
    "beta, alpha_age, alpha_regions, alpha_edu, alpha_age_edu = hlr_advi.model.t_inv_map(mu)\n",
    "var_beta, var_alpha_age, var_alpha_regions, var_alpha_edu, var_alpha_age_edu = hlr_advi.model.t_inv_map(sigma)"
   ]
  },
  {
   "cell_type": "code",
   "execution_count": null,
   "metadata": {},
   "outputs": [],
   "source": [
    "plt.rcParams.update({'figure.autolayout': True})\n",
    "plt.figure(figsize=(4, 3), constrained_layout=True)\n",
    "plt.bar(x=[\"Female\", \"Black\"], height=beta[1:3])\n",
    "plt.ylabel(\"Voting for Bush\")\n",
    "plt.savefig(\"female_black.pdf\")\n",
    "plt.show()\n"
   ]
  },
  {
   "cell_type": "code",
   "execution_count": null,
   "metadata": {},
   "outputs": [],
   "source": [
    "plt.bar(x=range(1,5),height=alpha_age)\n",
    "plt.xlabel(\"Age Group\")\n",
    "plt.ylabel(\"Prediction Correction (for Bush)\")"
   ]
  },
  {
   "cell_type": "code",
   "execution_count": null,
   "metadata": {},
   "outputs": [],
   "source": [
    "\n",
    "plt.bar(x=range(1,5),height=alpha_edu)\n",
    "plt.xticks([1,2,3,4])\n",
    "plt.xlabel(\"Educational Group\")\n",
    "plt.ylabel(\"Democrate Voting\")"
   ]
  },
  {
   "cell_type": "markdown",
   "metadata": {},
   "source": [
    "## Faces Experiments "
   ]
  },
  {
   "cell_type": "code",
   "execution_count": null,
   "metadata": {},
   "outputs": [],
   "source": [
    "from scipy.io import loadmat\n",
    "\n",
    "all_data = loadmat(\"data/frey_rawface.mat\")\n",
    "data = all_data[\"ff\"].T[:100]"
   ]
  },
  {
   "cell_type": "code",
   "execution_count": null,
   "metadata": {},
   "outputs": [],
   "source": [
    "rank = 10\n",
    "nmf_model = NMF_Model_PoissonGamma(data, rank, gamma_prior_shape=1, gamma_prior_scale=1)\n",
    "nmf_dim = nmf_model.dim\n",
    "k = jrandom.key(15)\n",
    "trial_vec = jrandom.normal(k, shape=(nmf_dim,))\n",
    "theta, beta = nmf_model.t_inv_map(trial_vec)\n",
    "nmf_advi = mean_field_advi(nmf_model)\n",
    "nmf_advi.run_advi(k, 10, 10001, 1e-5, print_every=500, adaptive=False)\n",
    "\n",
    "\n",
    "thetas, betas = nmf_model.t_inv_map(nmf_advi.params[\"mu\"])\n",
    "\n",
    "u = 42\n",
    "fig, axs = plt.subplots(2, 5, figsize=(12, 5))\n",
    "axs = axs.flatten()\n",
    "for i in range(10):\n",
    "    axs[i].imshow(betas[i].reshape(28, 20), cmap=\"gray\")\n",
    "    axs[i].axis(\"off\")\n",
    "    axs[i].set_title(rf\"$\\beta_{{{i}}}$\")"
   ]
  },
  {
   "cell_type": "code",
   "execution_count": null,
   "metadata": {},
   "outputs": [],
   "source": [
    "rank = 10\n",
    "nmf_model = NMF_Model_PoissonDirExp(data, rank)\n",
    "nmf_dim = nmf_model.dim\n",
    "k = jrandom.key(15)\n",
    "trial_vec = jrandom.normal(k, shape=(nmf_dim,))\n",
    "theta, beta = nmf_model.t_inv_map(trial_vec)\n",
    "nmf_advi = mean_field_advi(nmf_model)\n",
    "nmf_advi.run_advi(k, 10, 10001, 1e-5, print_every=100, adaptive=True)\n",
    "\n",
    "\n",
    "thetas, betas = nmf_model.t_inv_map(nmf_advi.params[\"mu\"])\n",
    "\n",
    "u = 42\n",
    "fig, axs = plt.subplots(2, 5, figsize=(12, 5))\n",
    "axs = axs.flatten()\n",
    "for i in range(10):\n",
    "    axs[i].imshow(betas[i].reshape(28, 20), cmap=\"gray\")\n",
    "    axs[i].axis(\"off\")\n",
    "    axs[i].set_title(rf\"$\\beta_{{{i}}}$\")"
   ]
  },
  {
   "cell_type": "code",
   "execution_count": null,
   "metadata": {},
   "outputs": [],
   "source": [
    "u = 25\n",
    "plt.figure()\n",
    "plt.subplot(121)\n",
    "plt.imshow((thetas[u] @ betas).reshape(28, 20), cmap=\"gray\")\n",
    "plt.axis(\"off\")\n",
    "plt.title(rf\"$\\theta_{{{u}}}\\cdot\\beta$\")\n",
    "plt.subplot(122)\n",
    "plt.imshow((data[u]).reshape(28, 20), cmap=\"gray\")\n",
    "plt.title(rf\"$Y_{{{u}, true}}$\")\n",
    "plt.axis(\"off\")\n",
    "print(f\"theta_{u}: {thetas[u]}\")"
   ]
  },
  {
   "cell_type": "code",
   "execution_count": null,
   "metadata": {},
   "outputs": [],
   "source": []
  }
 ],
 "metadata": {
  "kernelspec": {
   "display_name": "DLP",
   "language": "python",
   "name": "python3"
  },
  "language_info": {
   "codemirror_mode": {
    "name": "ipython",
    "version": 3
   },
   "file_extension": ".py",
   "mimetype": "text/x-python",
   "name": "python",
   "nbconvert_exporter": "python",
   "pygments_lexer": "ipython3",
   "version": "3.11.0"
  }
 },
 "nbformat": 4,
 "nbformat_minor": 2
}
