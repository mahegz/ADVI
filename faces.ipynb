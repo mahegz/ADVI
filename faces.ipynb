{
 "cells": [
  {
   "cell_type": "code",
   "execution_count": null,
   "metadata": {},
   "outputs": [],
   "source": [
    "%load_ext autoreload\n",
    "%autoreload 2\n"
   ]
  },
  {
   "cell_type": "code",
   "execution_count": null,
   "metadata": {},
   "outputs": [],
   "source": [
    "import jax.numpy as jnp\n",
    "from jax import grad, vmap\n",
    "import jax\n",
    "import jax.random as jrandom\n",
    "import matplotlib.pyplot as plt\n",
    "from utils import prepare_data\n",
    "from models import *\n",
    "from advi import *\n",
    "import numpy as np "
   ]
  },
  {
   "cell_type": "markdown",
   "metadata": {},
   "source": [
    "## Faces Experiments "
   ]
  },
  {
   "cell_type": "code",
   "execution_count": null,
   "metadata": {},
   "outputs": [],
   "source": [
    "from scipy.io import loadmat\n",
    "\n",
    "all_data = loadmat(\"data/frey_rawface.mat\")\n",
    "data = all_data[\"ff\"].T"
   ]
  },
  {
   "cell_type": "code",
   "execution_count": null,
   "metadata": {},
   "outputs": [],
   "source": [
    "rank = 10\n",
    "users = -1\n",
    "nmf_model = NMF_Model_PoissonGamma(data[:users], rank, gamma_prior_shape=1, gamma_prior_scale=1)\n",
    "nmf_dim = nmf_model.dim\n",
    "k = jrandom.key(15)\n",
    "trial_vec = jrandom.normal(k, shape=(nmf_dim,))\n",
    "theta, beta = nmf_model.t_inv_map(trial_vec)\n",
    "nmf_advi = mean_field_advi(nmf_model)\n",
    "k = jrandom.key(10)\n",
    "nmf_advi.run_advi(k, 3 ,25000,0.02, \n",
    "                  print_every=1000, adaptive=True, alpha=0.7, rmsprop=True)"
   ]
  },
  {
   "cell_type": "code",
   "execution_count": null,
   "metadata": {},
   "outputs": [],
   "source": [
    "rank = 10\n",
    "users = -1000\n",
    "nmf_model = old_NMF_Model_PoissonDirExp(data[:users], rank, gamma_prior_shape=1, gamma_prior_scale=1)\n",
    "nmf_dim = nmf_model.dim\n",
    "k = jrandom.key(15)\n",
    "trial_vec = jrandom.normal(k, shape=(nmf_dim,))\n",
    "theta, beta = nmf_model.t_inv_map(trial_vec)\n",
    "nmf_advi = mean_field_advi(nmf_model)\n",
    "k = jrandom.key(10)\n",
    "nmf_advi.run_advi(k, 3 ,25000,0.02, \n",
    "                  print_every=1000, adaptive=True, alpha=0.7, rmsprop=True)"
   ]
  }
 ],
 "metadata": {
  "kernelspec": {
   "display_name": "DLP",
   "language": "python",
   "name": "python3"
  },
  "language_info": {
   "codemirror_mode": {
    "name": "ipython",
    "version": 3
   },
   "file_extension": ".py",
   "mimetype": "text/x-python",
   "name": "python",
   "nbconvert_exporter": "python",
   "pygments_lexer": "ipython3",
   "version": "3.11.0"
  }
 },
 "nbformat": 4,
 "nbformat_minor": 2
}
