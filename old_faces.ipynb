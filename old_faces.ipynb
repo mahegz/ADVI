{
 "cells": [
  {
   "cell_type": "code",
   "execution_count": 1,
   "metadata": {},
   "outputs": [],
   "source": [
    "%load_ext autoreload\n",
    "%autoreload 2\n"
   ]
  },
  {
   "cell_type": "code",
   "execution_count": 2,
   "metadata": {},
   "outputs": [],
   "source": [
    "import jax.numpy as jnp\n",
    "from jax import grad, vmap\n",
    "import jax\n",
    "import jax.random as jrandom\n",
    "import matplotlib.pyplot as plt\n",
    "from utils import prepare_data\n",
    "from models import *\n",
    "from advi import *\n",
    "import numpy as np "
   ]
  },
  {
   "cell_type": "markdown",
   "metadata": {},
   "source": [
    "## Faces Experiments "
   ]
  },
  {
   "cell_type": "code",
   "execution_count": 3,
   "metadata": {},
   "outputs": [],
   "source": [
    "from scipy.io import loadmat\n",
    "\n",
    "all_data = loadmat(\"data/frey_rawface.mat\")\n",
    "data = all_data[\"ff\"].T"
   ]
  },
  {
   "cell_type": "code",
   "execution_count": 4,
   "metadata": {},
   "outputs": [
    {
     "name": "stderr",
     "output_type": "stream",
     "text": [
      "An NVIDIA GPU may be present on this machine, but a CUDA-enabled jaxlib is not installed. Falling back to cpu.\n"
     ]
    }
   ],
   "source": [
    "rank = 10\n",
    "nmf_model = NMF_Model_PoissonGamma(data, rank, gamma_prior_shape=1, gamma_prior_scale=1)\n",
    "nmf_dim = nmf_model.dim\n",
    "k = jrandom.key(15)\n",
    "trial_vec = jrandom.normal(k, shape=(nmf_dim,))\n",
    "theta, beta = nmf_model.t_inv_map(trial_vec)\n",
    "nmf_advi = mean_field_advi(nmf_model)\n",
    "\n",
    "\n"
   ]
  },
  {
   "cell_type": "code",
   "execution_count": 5,
   "metadata": {},
   "outputs": [
    {
     "name": "stdout",
     "output_type": "stream",
     "text": [
      "-51112680.0\n",
      "-51441292.0\n",
      "-50973064.0\n",
      "-49775732.0\n",
      "-49645380.0\n",
      "-50717588.0\n",
      "-50330264.0\n",
      "-49903490.0\n",
      "-49688304.0\n",
      "-48279040.0\n"
     ]
    }
   ],
   "source": [
    "nmf_advi = mean_field_advi(nmf_model)\n",
    "nmf_advi.run_advi(k, 10, 5001, 1e-6, print_every=500, adaptive=True)\n"
   ]
  },
  {
   "cell_type": "code",
   "execution_count": null,
   "metadata": {},
   "outputs": [],
   "source": [
    "thetas, betas = nmf_model.t_inv_map(nmf_advi.params[\"mu\"])\n",
    "\n",
    "u = 42\n",
    "fig, axs = plt.subplots(2, 5, figsize=(12, 5), constrained_layout=True)\n",
    "axs = axs.flatten()\n",
    "for i in range(10):\n",
    "    axs[i].imshow(betas[i].reshape(28, 20), cmap=\"gray\")\n",
    "    axs[i].axis(\"off\")\n",
    "    # axs[i].set_title(rf\"$\\beta_{{{i}}}$\")\n",
    "    \n",
    "plt.savefig(\"face_poisson gamma.pdf\")"
   ]
  },
  {
   "cell_type": "code",
   "execution_count": null,
   "metadata": {},
   "outputs": [],
   "source": [
    "rank = 10\n",
    "all_data = loadmat(\"data/frey_rawface.mat\")\n",
    "data = all_data[\"ff\"].T\n",
    "nmf_model = old_NMF_Model_PoissonDirExp(data, rank,dir_prior=100, exp_prior=0.1)\n",
    "nmf_dim = nmf_model.dim\n",
    "k = jrandom.key(15)\n",
    "trial_vec = jrandom.normal(k, shape=(nmf_dim,))\n",
    "theta, beta = nmf_model.t_inv_map(trial_vec)\n",
    "nmf_advi = mean_field_advi(nmf_model)\n",
    "nmf_advi.run_advi(k, 10, 5001, 1e-5, print_every=500, adaptive=True)\n",
    "\n",
    "\n",
    "thetas, betas = nmf_model.t_inv_map(nmf_advi.params[\"mu\"])\n",
    "\n",
    "u = 42\n",
    "fig, axs = plt.subplots(2, 5, figsize=(12, 5))\n",
    "axs = axs.flatten()\n",
    "for i in range(10):\n",
    "    axs[i].imshow(betas[i].reshape(28, 20), cmap=\"gray\")\n",
    "    axs[i].axis(\"off\")\n",
    "    # axs[i].set_title(rf\"$\\beta_{{{i}}}$\")"
   ]
  },
  {
   "cell_type": "code",
   "execution_count": null,
   "metadata": {},
   "outputs": [],
   "source": [
    "nmf_advi.run_advi(k, 10, 5001, 1e-5, print_every=500, adaptive=True)\n"
   ]
  },
  {
   "cell_type": "code",
   "execution_count": null,
   "metadata": {},
   "outputs": [],
   "source": [
    "fig, axs = plt.subplots(2, 5, figsize=(12, 5))\n",
    "axs = axs.flatten()\n",
    "for i in range(10):\n",
    "    axs[i].imshow(betas[i].reshape(28, 20), cmap=\"gray\")\n",
    "    axs[i].axis(\"off\")\n",
    "    # axs[i].set_title(rf\"$\\beta_{{{i}}}$\")"
   ]
  },
  {
   "cell_type": "code",
   "execution_count": null,
   "metadata": {},
   "outputs": [],
   "source": [
    "\n",
    "#Exploring reconstructions \n",
    "u = 25\n",
    "plt.figure()\n",
    "plt.subplot(121)\n",
    "plt.imshow((thetas[u] @ betas).reshape(28, 20), cmap=\"gray\")\n",
    "plt.axis(\"off\")\n",
    "plt.title(rf\"$\\theta_{{{u}}}\\cdot\\beta$\")\n",
    "plt.subplot(122)\n",
    "plt.imshow((data[u]).reshape(28, 20), cmap=\"gray\")\n",
    "plt.title(rf\"$Y_{{{u}, true}}$\")\n",
    "plt.axis(\"off\")\n",
    "print(f\"theta_{u}: {thetas[u]}\")"
   ]
  }
 ],
 "metadata": {
  "kernelspec": {
   "display_name": "DLP",
   "language": "python",
   "name": "python3"
  },
  "language_info": {
   "codemirror_mode": {
    "name": "ipython",
    "version": 3
   },
   "file_extension": ".py",
   "mimetype": "text/x-python",
   "name": "python",
   "nbconvert_exporter": "python",
   "pygments_lexer": "ipython3",
   "version": "3.9.18"
  }
 },
 "nbformat": 4,
 "nbformat_minor": 2
}
