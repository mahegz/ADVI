{
 "cells": [
  {
   "cell_type": "code",
   "execution_count": null,
   "metadata": {},
   "outputs": [],
   "source": [
    "%load_ext autoreload\n",
    "%autoreload 2"
   ]
  },
  {
   "cell_type": "code",
   "execution_count": null,
   "metadata": {},
   "outputs": [],
   "source": [
    "import jax.numpy as jnp\n",
    "from jax import grad, vmap\n",
    "import jax\n",
    "from jax.tree_util import tree_map\n",
    "import jax.random as jrandom\n",
    "import matplotlib.pyplot as plt\n",
    "from utils import prepare_data\n",
    "from models import *\n",
    "from advi import *"
   ]
  },
  {
   "cell_type": "markdown",
   "metadata": {},
   "source": [
    "## Toy Regression"
   ]
  },
  {
   "cell_type": "code",
   "execution_count": null,
   "metadata": {},
   "outputs": [],
   "source": [
    "N = 100\n",
    "d = 3\n",
    "key = jrandom.key(42)\n",
    "k1, k2, k3 = jrandom.split(key, 3)\n",
    "X_data = jrandom.normal(k1, shape=(N, d))\n",
    "w_star = jrandom.normal(k2, shape=(d,)) * 2\n",
    "y = X_data @ w_star\n",
    "linear_model = LinearModel(X_data, y, 1, 1)\n",
    "linear_advi = mean_field_advi(linear_model)\n",
    "key = jrandom.key(52)\n",
    "loss = linear_advi.run_advi(\n",
    "    key, 100, 1001, 1e-4, print_every=500, adaptive=True, alpha=0.5\n",
    ")\n",
    "print(\"Sample \", linear_advi.sample(k3)[0])\n",
    "print(\"True value\", w_star)"
   ]
  },
  {
   "cell_type": "markdown",
   "metadata": {},
   "source": [
    "## HLR Experiments"
   ]
  },
  {
   "cell_type": "code",
   "execution_count": null,
   "metadata": {},
   "outputs": [],
   "source": [
    "k = jrandom.key(42)\n",
    "beta_prior = 100\n",
    "alpha_prior = 1\n",
    "data = prepare_data()\n",
    "hlr_model = HLR_Model(data)\n",
    "hlr_advi = mean_field_advi(hlr_model)\n",
    "loss = hlr_advi.run_advi(\n",
    "    k, 10, 10001, 1e-5, print_every=100, adaptive=False, alpha=0.5\n",
    ")"
   ]
  },
  {
   "cell_type": "markdown",
   "metadata": {},
   "source": [
    "## Faces Experiments "
   ]
  },
  {
   "cell_type": "code",
   "execution_count": null,
   "metadata": {},
   "outputs": [],
   "source": [
    "from scipy.io import loadmat\n",
    "\n",
    "all_data = loadmat(\"data/frey_rawface.mat\")\n",
    "data = all_data[\"ff\"].T[:100]"
   ]
  },
  {
   "cell_type": "code",
   "execution_count": null,
   "metadata": {},
   "outputs": [],
   "source": [
    "rank = 10\n",
    "nmf_model = NMF_Model_PoissonGamma(data, rank, gamma_prior_shape=1, gamma_prior_scale=1)\n",
    "nmf_dim = nmf_model.dim\n",
    "k = jrandom.key(15)\n",
    "trial_vec = jrandom.normal(k, shape=(nmf_dim,))\n",
    "theta, beta = nmf_model.t_inv_map(trial_vec)\n",
    "nmf_advi = mean_field_advi(nmf_model)\n",
    "nmf_advi.run_advi(k, 10, 10001, 1e-5, print_every=500, adaptive=False)\n",
    "\n",
    "\n",
    "thetas, betas = nmf_model.t_inv_map(nmf_advi.params[\"mu\"])\n",
    "\n",
    "u = 42\n",
    "fig, axs = plt.subplots(2, 5, figsize=(12, 5))\n",
    "axs = axs.flatten()\n",
    "for i in range(10):\n",
    "    axs[i].imshow(betas[i].reshape(28, 20), cmap=\"gray\")\n",
    "    axs[i].axis(\"off\")\n",
    "    axs[i].set_title(rf\"$\\beta_{{{i}}}$\")"
   ]
  },
  {
   "cell_type": "code",
   "execution_count": null,
   "metadata": {},
   "outputs": [],
   "source": [
    "rank = 10\n",
    "nmf_model = NMF_Model_PoissonDirExp(data, rank)\n",
    "nmf_dim = nmf_model.dim\n",
    "k = jrandom.key(15)\n",
    "trial_vec = jrandom.normal(k, shape=(nmf_dim,))\n",
    "theta, beta = nmf_model.t_inv_map(trial_vec)\n",
    "nmf_advi = mean_field_advi(nmf_model)\n",
    "nmf_advi.run_advi(k, 10, 10001, 1e-5, print_every=100, adaptive=True)\n",
    "\n",
    "\n",
    "thetas, betas = nmf_model.t_inv_map(nmf_advi.params[\"mu\"])\n",
    "\n",
    "u = 42\n",
    "fig, axs = plt.subplots(2, 5, figsize=(12, 5))\n",
    "axs = axs.flatten()\n",
    "for i in range(10):\n",
    "    axs[i].imshow(betas[i].reshape(28, 20), cmap=\"gray\")\n",
    "    axs[i].axis(\"off\")\n",
    "    axs[i].set_title(rf\"$\\beta_{{{i}}}$\")"
   ]
  },
  {
   "cell_type": "code",
   "execution_count": null,
   "metadata": {},
   "outputs": [],
   "source": [
    "u = 25\n",
    "plt.figure()\n",
    "plt.subplot(121)\n",
    "plt.imshow((thetas[u] @ betas).reshape(28, 20), cmap=\"gray\")\n",
    "plt.axis(\"off\")\n",
    "plt.title(rf\"$\\theta_{{{u}}}\\cdot\\beta$\")\n",
    "plt.subplot(122)\n",
    "plt.imshow((data[u]).reshape(28, 20), cmap=\"gray\")\n",
    "plt.title(rf\"$Y_{{{u}, true}}$\")\n",
    "plt.axis(\"off\")\n",
    "print(f\"theta_{u}: {thetas[u]}\")"
   ]
  },
  {
   "cell_type": "code",
   "execution_count": null,
   "metadata": {},
   "outputs": [],
   "source": []
  }
 ],
 "metadata": {
  "kernelspec": {
   "display_name": "DLP",
   "language": "python",
   "name": "python3"
  },
  "language_info": {
   "codemirror_mode": {
    "name": "ipython",
    "version": 3
   },
   "file_extension": ".py",
   "mimetype": "text/x-python",
   "name": "python",
   "nbconvert_exporter": "python",
   "pygments_lexer": "ipython3",
   "version": "3.12.1"
  }
 },
 "nbformat": 4,
 "nbformat_minor": 2
}
